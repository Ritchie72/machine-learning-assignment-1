{
 "cells": [
  {
   "cell_type": "markdown",
   "id": "8bab17fd",
   "metadata": {},
   "source": [
    "# Q1] Explain the following with an example:"
   ]
  },
  {
   "cell_type": "markdown",
   "id": "b7abd19b",
   "metadata": {},
   "source": [
    "1] Artificial intelligence: AI refers to the development of computer systems that can perform tasks that typically require human intelligence example : self driving cars\n"
   ]
  },
  {
   "cell_type": "markdown",
   "id": "91eb1c1c",
   "metadata": {},
   "source": [
    "2] Machine learning: Machine Learning is a subset of AI that involves the development of algorithms and models that enable computers to learn from data and improve their performance on a specific task over time.Example: Spam Email Filtering"
   ]
  },
  {
   "cell_type": "markdown",
   "id": "bd90e99b",
   "metadata": {},
   "source": [
    "3] Deep learning: Deep Learning is a specialized subfield of machine learning that focuses on using neural networks with multiple layers to extract complex features and representations from data. Example:  Image Recognition"
   ]
  },
  {
   "cell_type": "markdown",
   "id": "e9abc98c",
   "metadata": {},
   "source": [
    "# Q2] What is supervised learning? List some examples of supervised learning?"
   ]
  },
  {
   "cell_type": "markdown",
   "id": "7f4583ff",
   "metadata": {},
   "source": [
    "Supervised learning:  In supervised learning, the algorithm is provided with input-output pairs, also known as examples, to learn a mapping function that can predict the correct output for new, unseen inputs. Classification and regression problems can be solved by supervised learning."
   ]
  },
  {
   "cell_type": "markdown",
   "id": "c79a8350",
   "metadata": {},
   "source": [
    "Example: Image classification, email spam detection."
   ]
  },
  {
   "cell_type": "markdown",
   "id": "ea7e1dbd",
   "metadata": {},
   "source": [
    "# Q3] What is unsupervised learning? List some examples of unsupervised learning.\n"
   ]
  },
  {
   "cell_type": "markdown",
   "id": "60ee241a",
   "metadata": {},
   "source": [
    " In unsupervised learning, the algorithm's goal is to discover patterns, structures, and relationships within the data without being given specific output labels."
   ]
  },
  {
   "cell_type": "markdown",
   "id": "0124a9b6",
   "metadata": {},
   "source": [
    "Example: Customer segmentation, clustering, dimensionality reduction."
   ]
  },
  {
   "cell_type": "markdown",
   "id": "ed5b9da1",
   "metadata": {},
   "source": [
    "# Q4] What is difference between AI, ML,DL and DS? "
   ]
  },
  {
   "cell_type": "markdown",
   "id": "207f6bbb",
   "metadata": {},
   "source": [
    "AI: AI focuses on creating intelligent systems that can perform tasks that require human-like intelligence."
   ]
  },
  {
   "cell_type": "markdown",
   "id": "bf77bf67",
   "metadata": {},
   "source": [
    "ML is a subset of AI that involves developing algorithms to learn from data and improve their performance."
   ]
  },
  {
   "cell_type": "markdown",
   "id": "bb13020f",
   "metadata": {},
   "source": [
    "DL is a subfield of ML that uses deep neural networks to handle complex data representations and has been particularly successful in various AI tasks."
   ]
  },
  {
   "cell_type": "markdown",
   "id": "0874ad9d",
   "metadata": {},
   "source": [
    "DS is an interdisciplinary field that involves extracting insights from data using techniques from various domains, including statistics, ML, and domain expertise."
   ]
  },
  {
   "cell_type": "markdown",
   "id": "2fa8d7de",
   "metadata": {},
   "source": [
    "# Q5] What are the differences between supervised, unsupervised and semi-supervised learning?"
   ]
  },
  {
   "cell_type": "markdown",
   "id": "709b530a",
   "metadata": {},
   "source": [
    "Supervised Learning uses labeled data to train the model to predict specific outputs."
   ]
  },
  {
   "cell_type": "markdown",
   "id": "4d6d1aa5",
   "metadata": {},
   "source": [
    "Unsupervised Learning uses unlabeled data to discover patterns and structures within the data."
   ]
  },
  {
   "cell_type": "markdown",
   "id": "37f9420d",
   "metadata": {},
   "source": [
    "Semi-Supervised Learning combines labeled and unlabeled data to leverage the benefits of both approaches, especially when labeled data is limited."
   ]
  },
  {
   "cell_type": "markdown",
   "id": "08ff5c5c",
   "metadata": {},
   "source": [
    "# Q6] What is train,test and validation split? Explain the importance of each terms."
   ]
  },
  {
   "cell_type": "markdown",
   "id": "eff7c9ca",
   "metadata": {},
   "source": [
    "1] Training Set is used to train the model by adjusting its parameters to minimize errors on labeled data.\n",
    "2] Validation Set is used to fine-tune hyperparameters and evaluate the model's performance during training.\n",
    "3] Test Set is used to evaluate the model's final performance after training and hyperparameter tuning, providing an unbiased estimate of its generalization to new data."
   ]
  },
  {
   "cell_type": "markdown",
   "id": "1f44e7eb",
   "metadata": {},
   "source": [
    "The separation of data into these subsets ensures that the model's performance is accurately assessed on unseen data and helps prevent overfitting, leading to more reliable and robust models."
   ]
  },
  {
   "cell_type": "markdown",
   "id": "c0ac5995",
   "metadata": {},
   "source": [
    "# Q7] How can unsupervised learning be useful in anamoly detection?"
   ]
  },
  {
   "cell_type": "markdown",
   "id": "4f767fd0",
   "metadata": {},
   "source": [
    "Unsupervised learning is advantageous for anomaly detection because it doesn't require labeled anomalies for training. This is crucial as anomalies are often rare and difficult to obtain."
   ]
  },
  {
   "cell_type": "markdown",
   "id": "03f7e179",
   "metadata": {},
   "source": [
    "# Q8] List down some commonly used supervised learning algorithms and unsupervised learning algorithms?"
   ]
  },
  {
   "cell_type": "markdown",
   "id": "4a293401",
   "metadata": {},
   "source": [
    "Supervised Learning algorithms:\n",
    "1] Linear Regression.\n",
    "2] Logistic regression.\n",
    "3] Decision trees.\n",
    "4] Random forest.\n",
    "5] Support vector machine(SVM).\n",
    "\n"
   ]
  },
  {
   "cell_type": "markdown",
   "id": "b032adf3",
   "metadata": {},
   "source": [
    "Unsupervised Learning algorithms:\n",
    "1] K-mean clustering.\n",
    "2] Hierarchical clustering.\n",
    "3] PCA (Principal component analysis)."
   ]
  }
 ],
 "metadata": {
  "kernelspec": {
   "display_name": "Python 3 (ipykernel)",
   "language": "python",
   "name": "python3"
  },
  "language_info": {
   "codemirror_mode": {
    "name": "ipython",
    "version": 3
   },
   "file_extension": ".py",
   "mimetype": "text/x-python",
   "name": "python",
   "nbconvert_exporter": "python",
   "pygments_lexer": "ipython3",
   "version": "3.10.9"
  }
 },
 "nbformat": 4,
 "nbformat_minor": 5
}
